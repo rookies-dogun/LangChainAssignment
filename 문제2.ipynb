{
 "cells": [
  {
   "cell_type": "markdown",
   "id": "dc6261ff",
   "metadata": {},
   "source": [
    "## 문제 2-1 : 콤마 구분 리스트 파서 활용\n",
    "### 출력 파서: CommaSeparatedListOutputParser\n",
    "### 문제\n",
    "사용자가 관심있는 분야(예: \"음식\", \"스포츠\", \"영화\" 등)를 입력하면, 해당 분야와 관련된 한국의 유명한 장소나 활동 5가지를 콤마로 구분된 리스트로 출력하는 프로그램을 작성하세요.\n",
    "### 요구사항:\n",
    "- CommaSeparatedListOutputParser 사용\n",
    "- 사용자 입력을 받아 동적으로 처리\n",
    "- 한국 관련 내용으로 추천\n",
    "### 예시 입력: \"음식\"\n",
    "### 예시 출력: \n",
    "['명동 칼국수', '부산 돼지국밥', '전주 비빔밥', '춘천 닭갈비', '제주 흑돼지']\n"
   ]
  },
  {
   "cell_type": "code",
   "execution_count": 4,
   "id": "dcef9015",
   "metadata": {},
   "outputs": [
    {
     "name": "stdout",
     "output_type": "stream",
     "text": [
      "['* 서울의 N서울타워 ', '* 광주의 5.18 기념관 ', '* 부산의 자갈치시장 ', '* 문의문화재단지 ', '* 경주의 황남빵집']\n"
     ]
    }
   ],
   "source": [
    "from langchain_core.output_parsers import CommaSeparatedListOutputParser, StrOutputParser\n",
    "from langchain_core.prompts import PromptTemplate, ChatPromptTemplate, FewShotPromptTemplate, FewShotChatMessagePromptTemplate\n",
    "from langchain_openai import ChatOpenAI \n",
    "import os\n",
    "from dotenv import load_dotenv\n",
    "\n",
    "## 기본 세팅. llm, parser\n",
    "load_dotenv()\n",
    "\n",
    "llm = ChatOpenAI(\n",
    "    base_url=\"https://api.groq.com/openai/v1\",  \n",
    "    model=\"meta-llama/llama-4-scout-17b-16e-instruct\",\n",
    "    temperature=0.7\n",
    ")\n",
    "output_parser = StrOutputParser()\n",
    "comma_parser = CommaSeparatedListOutputParser()\n",
    "\n",
    "prompt = ChatPromptTemplate.from_messages([\n",
    "    (\"system\", \"너는 한국 문화 전문가야. 사용자가 입력한 분야와 관련된 한국의 유명한 장소나 활동 5가지만 출력해. 다른 말 붙이지 말고\"),\n",
    "    ('human', \"user_interest\"),\n",
    "    (\"ai\", \"{format_instructions}\")\n",
    "])\n",
    "\n",
    "user_interest = input(\"관심 있는 분야를 입력하세요 > \")\n",
    "\n",
    "chain = prompt | llm | comma_parser\n",
    "response = chain.invoke(user_interest)\n",
    "print(response)\n"
   ]
  },
  {
   "cell_type": "markdown",
   "id": "8c023a19",
   "metadata": {},
   "source": [
    "## 문제 2-2 : 영화 리뷰 감정 분석기\n",
    "### 출력 파서: EnumOutputParser\n",
    "### 문제\n",
    "영화 리뷰 텍스트를 입력받아 감정을 \"긍정\", \"부정\", \"보통\" 중 하나로 분류하는 시스템을 만드세요.\n",
    "### 요구사항:\n",
    "- EnumOutputParser와 Enum 클래스 사용\n",
    "- 여러 개의 테스트 리뷰로 검증\n",
    "- 감정 분류 결과를 깔끔하게 출력\n",
    "### 테스트 리뷰 예시:\n",
    "- \"이 영화 정말 재미없어요. 시간 낭비였습니다.\"\n",
    "- \"배우들의 연기가 훌륭하고 스토리도 감동적이었어요!\"\n",
    "- \"그냥 무난한 영화였습니다. 나쁘지도 좋지도 않아요.\"\n",
    "\n",
    "- 분석실패했을 경우에 사용하는 \n",
    "OutputFixingParser 와 EnumOutputParser 를 같이 사용하는 것은 선택입니다.\n"
   ]
  },
  {
   "cell_type": "code",
   "execution_count": 6,
   "id": "b73f6a84",
   "metadata": {},
   "outputs": [
    {
     "name": "stdout",
     "output_type": "stream",
     "text": [
      "\n",
      "[리뷰 1]\n",
      "리뷰 텍스트: \"이 영화 정말 재미없어요. 시간 낭비였습니다.\"\n",
      "분석된 감정: 부정\n",
      "\n",
      "[리뷰 2]\n",
      "리뷰 텍스트: \"배우들의 연기가 훌륭하고 스토리도 감동적이었어요!\"\n",
      "분석된 감정: 긍정\n",
      "\n",
      "[리뷰 3]\n",
      "리뷰 텍스트: \"그냥 무난한 영화였습니다. 나쁘지도 좋지도 않아요.\"\n",
      "분석된 감정: 보통\n"
     ]
    }
   ],
   "source": [
    "from enum import Enum\n",
    "from langchain.output_parsers import EnumOutputParser\n",
    "\n",
    "class Sentiment(Enum):\n",
    "    POSITIVE = \"긍정\"\n",
    "    NEGATIVE = \"부정\"\n",
    "    NEUTRAL = \"보통\"\n",
    "    \n",
    "enum_parser = EnumOutputParser(enum=Sentiment)\n",
    "\n",
    "prompt = ChatPromptTemplate.from_messages([\n",
    "    (\"system\", \"너는 영화 리뷰 감정 분석 전문가야. 주어진 영화 리뷰의 감정을 '긍정', '부정', '보통' 중 하나로만 분류해. 다른 설명 없이 감정 단어 하나만 출력해야 해.\"),\n",
    "    (\"human\", \"영화 리뷰: {review}\\n{format_instructions}\") # 파서가 필요한 출력 형식을 삽입할 Placeholder\n",
    "])\n",
    "\n",
    "sentiment_chain = prompt.partial(format_instructions=enum_parser.get_format_instructions()) | llm | enum_parser\n",
    "test_reviews = [\n",
    "    \"이 영화 정말 재미없어요. 시간 낭비였습니다.\",\n",
    "    \"배우들의 연기가 훌륭하고 스토리도 감동적이었어요!\",\n",
    "    \"그냥 무난한 영화였습니다. 나쁘지도 좋지도 않아요.\"\n",
    "]\n",
    "\n",
    "for i, review in enumerate(test_reviews):\n",
    "    print(f\"\\n[리뷰 {i+1}]\")\n",
    "    print(f\"리뷰 텍스트: \\\"{review}\\\"\")\n",
    "    sentiment = sentiment_chain.invoke({\"review\": review})\n",
    "    print(f\"분석된 감정: {sentiment.value}\") # Enum 값(예: \"긍정\")을 출력\n"
   ]
  },
  {
   "cell_type": "markdown",
   "id": "85fa3fcc",
   "metadata": {},
   "source": [
    "## 문제 2-3: 학생 정보 구조화 시스템\n",
    "### 출력 파서: PydanticOutputParser\n",
    "### 문제\n",
    "학생의 자유 형식 자기소개를 입력받아 이름, 나이, 전공, 취미 리스트, 목표를 구조화된 형태로 추출하는 시스템을 만드세요.\n",
    "### 요구사항:\n",
    "- PydanticOutputParser와 BaseModel 사용\n",
    "- 각 필드에 적절한 타입과 설명 추가\n",
    "- 자유 형식의 텍스트에서 정보 추출\n",
    "### 예시 입력:\n",
    " \"안녕하세요! 저는 김민수이고 22살입니다. 컴퓨터공학을 전공하고 있어요. 취미로는 게임하기, 영화보기, 코딩을 좋아합니다. 앞으로 훌륭한 개발자가 되는 것이 목표입니다.\"\n",
    "### 예시 출력 구조:\n",
    "{\n",
    "    \"name\": \"김민수\",\n",
    "    \"age\": 22,\n",
    "    \"major\": \"컴퓨터공학\",\n",
    "    \"hobbies\": [\"게임하기\", \"영화보기\", \"코딩\"],\n",
    "    \"goal\": \"훌륭한 개발자가 되는 것\"\n",
    "}\n"
   ]
  },
  {
   "cell_type": "markdown",
   "id": "d6b94396",
   "metadata": {},
   "source": []
  },
  {
   "cell_type": "code",
   "execution_count": 10,
   "id": "6f1da377",
   "metadata": {},
   "outputs": [
    {
     "name": "stdout",
     "output_type": "stream",
     "text": [
      "name='김민수' age=22 major='컴퓨터공학' hobbies=['게임하기', '영화보기', '코딩'] goal='훌륭한 개발자가 되는 것'\n",
      "<class '__main__.StudentInfo'>\n"
     ]
    }
   ],
   "source": [
    "from pydantic import BaseModel, Field\n",
    "from typing import List\n",
    "from langchain_core.output_parsers import PydanticOutputParser\n",
    "class StudentInfo(BaseModel):\n",
    "    name: str = Field(description=\"학생의 이름\")\n",
    "    age: int = Field(description=\"학생의 나이\")\n",
    "    major: str = Field(description=\"학생의 전공\")\n",
    "    hobbies: List[str] = Field(description=\"학생의 취미 목록\")\n",
    "    goal: str = Field(description=\"학생의 장래 목표\")\n",
    "\n",
    "\n",
    "pydantic_parser = PydanticOutputParser(pydantic_object=StudentInfo)\n",
    "prompt = ChatPromptTemplate.from_messages([\n",
    "    (\"system\", \"너는 학생 자기소개에서 정보를 추출하는 전문가야. 다음 자기소개에서 학생의 이름, 나이, 전공, 취미 리스트, 목표를 정확하게 추출하여 JSON 형식으로 구조화해줘.\\n{format_instructions}\"),\n",
    "    (\"human\", \"학생 자기소개: {introduction}\"),\n",
    "])\n",
    "\n",
    "info_chain = prompt.partial(format_instructions=pydantic_parser.get_format_instructions()) | llm | pydantic_parser\n",
    "test_introduction = \"안녕하세요! 저는 김민수이고 22살입니다. 컴퓨터공학을 전공하고 있어요. 취미로는 게임하기, 영화보기, 코딩을 좋아합니다. 앞으로 훌륭한 개발자가 되는 것이 목표입니다.\"\n",
    "\n",
    "info_response = info_chain.invoke(test_introduction)\n",
    "print(info_response)\n",
    "print(type(info_response))\n"
   ]
  },
  {
   "cell_type": "markdown",
   "id": "1cfe1d24",
   "metadata": {},
   "source": [
    "## 문제 2-4 : 여행 계획 분석기\n",
    "### 출력 파서: StructuredOutputParser\n",
    "### 문제\n",
    "여행 후기나 계획 텍스트를 입력받아 여행지, 기간, 예산, 추천도(1-5점), 주요 활동 리스트를 구조화된 형태로 추출하는 시스템을 만드세요.\n",
    "### 요구사항:\n",
    "- StructuredOutputParser와 ResponseSchema 사용\n",
    "- 5개의 필드를 정의하여 정보 추출\n",
    "- 자연어 텍스트에서 핵심 정보 파싱\n",
    "### 예시 입력:\n",
    " \"지난 주에 부산으로 2박 3일 여행을 다녀왔어요. 총 30만원 정도 썼는데 해운대에서 바다구경하고, 자갈치시장에서 회 먹고, 감천문화마을도 구경했어요. 정말 만족스러운 여행이었습니다. 5점 만점에 4점 정도 줄 수 있을 것 같아요.\"\n",
    "### 예시 출력 구조:\n",
    "{\n",
    "    \"destination\": \"부산\",\n",
    "    \"duration\": \"2박 3일\",\n",
    "    \"budget\": \"30만원\",\n",
    "    \"rating\": \"4\",\n",
    "    \"activities\": [\"해운대 바다구경\", \"자갈치시장 회 먹기\", \"감천문화마을 구경\"]\n",
    "}"
   ]
  },
  {
   "cell_type": "code",
   "execution_count": 5,
   "id": "3a4119bc",
   "metadata": {},
   "outputs": [
    {
     "name": "stdout",
     "output_type": "stream",
     "text": [
      "{'destination': '부산', 'duration': '2박3일', 'budget': '30만원', 'rating': '4점', 'activities': '해운대 바다구경, 자갈치시장에서 회 먹기, 감천문화마을 구경'}\n"
     ]
    }
   ],
   "source": [
    "from langchain.output_parsers import StructuredOutputParser, ResponseSchema\n",
    "from typing import List\n",
    "\n",
    "# 추출할 정보의 스키마 정의\n",
    "response_schemas = [\n",
    "    ResponseSchema(name=\"destination\", description=\"여행을 다녀온/갈 장소\"),\n",
    "    ResponseSchema(name=\"duration\", description=\"여행 기간 (예: '2박 3일', '5일')\"),\n",
    "    ResponseSchema(name=\"budget\", description=\"여행에 사용된/예상되는 총 예산 (예: '30만원', '500달러')\"),\n",
    "    ResponseSchema(name=\"rating\", description=\"여행에 대한 추천도 (1점에서 5점 사이)\"),\n",
    "    ResponseSchema(name=\"activities\", description=\"여행 중 했던/할 주요 활동 목록\")\n",
    "]\n",
    "\n",
    "struct_parser = StructuredOutputParser.from_response_schemas(response_schemas)\n",
    "prompt = ChatPromptTemplate.from_messages([\n",
    "    (\"system\", \"너는 여행 후기 분석 전문가야. 주어진 여행 텍스트에서 다음 정보를 정확하게 추출하여 JSON 형식으로 구조화해줘.\\n{format_instructions}\"),\n",
    "    (\"human\", \"여행 텍스트: {travel_text}\"),\n",
    "])\n",
    "\n",
    "test_travel_text =  \"지난 주에 부산으로 2박 3일 여행을 다녀왔어요. 총 30만원 정도 썼는데 해운대에서 바다구경하고, 자갈치시장에서 회 먹고, 감천문화마을도 구경했어요. 정말 만족스러운 여행이었습니다. 5점 만점에 4점 정도 줄 수 있을 것 같아요.\"\n",
    "travel_analyzer_chain = prompt.partial(format_instructions=struct_parser.get_format_instructions()) | llm | struct_parser\n",
    "travel_response = travel_analyzer_chain.invoke(test_travel_text)\n",
    "print(travel_response)\n"
   ]
  }
 ],
 "metadata": {
  "kernelspec": {
   "display_name": "langchain-basic-iuDoj6Sc-py3.12",
   "language": "python",
   "name": "python3"
  },
  "language_info": {
   "codemirror_mode": {
    "name": "ipython",
    "version": 3
   },
   "file_extension": ".py",
   "mimetype": "text/x-python",
   "name": "python",
   "nbconvert_exporter": "python",
   "pygments_lexer": "ipython3",
   "version": "3.12.7"
  }
 },
 "nbformat": 4,
 "nbformat_minor": 5
}
