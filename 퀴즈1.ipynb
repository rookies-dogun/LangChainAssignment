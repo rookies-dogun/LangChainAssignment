{
 "cells": [
  {
   "cell_type": "markdown",
   "id": "3bd7d36e",
   "metadata": {},
   "source": [
    "1. 파이썬 LLM 챗봇 개발을 위해 다루는 주요 기술 개념이 아닌 것은 무엇일까요?\n",
    "- 관계형 데이터베이스 설계\n",
    "2. 개발한 챗봇 모델을 웹 애플리케이션 형태로 쉽게 배포하기 위해 사용하는 라이브러리는 무엇일까요?\n",
    "- Gradio\n",
    "\n",
    "3. 파이썬 패키지 및 종속성 관리를 위해 추천하는 도구는 무엇일까요?\n",
    "- Poetry\n",
    "\n",
    "4. LLM이 도구(Tool) 호출을 사용하는 주된 이유는 무엇인가요?\n",
    "- 최신 정보 접근 및 기능 확장\n",
    "\n",
    "5. LLM이 외부 도구와 통신할 때 일반적으로 사용하는 데이터 형식은 무엇인가요?\n",
    "- JSON 형식\n",
    "\n",
    "\n",
    "6. LLM에 도구를 '바인딩(binding)'하는 과정은 무엇을 의미하나요?\n",
    "- LLM이 해당 도구의 존재와 사용법을 아는 것\n",
    "\n",
    "7. 도구 실행 결과는 어떤 형태로 LLM에 전달되어 최종 답변에 활용되나요?\n",
    "- ToolMessage 형식\n",
    "\n",
    "\n",
    "\n",
    "8. Python 함수를 LangChain 도구로 변환하기 위해 사용하는 LangChain의 기능은 무엇인가요?\n",
    "- @tool 데코레이터\n",
    "\n",
    "9. LangChain에서 Runnable 객체나 LCEL 체인을 도구로 변환할 때 사용하는 표준 메서드는 무엇인가요?\n",
    "\n",
    "- .as_tool()\n",
    "\n",
    "10. LangChain Agent 시스템에서 LLM은 어떤 역할을 수행하나요?\n",
    "- 필요한 도구 선택 및 실행 제어\n",
    "\n",
    "\n"
   ]
  },
  {
   "cell_type": "code",
   "execution_count": null,
   "id": "6ba63ab5",
   "metadata": {
    "vscode": {
     "languageId": "plaintext"
    }
   },
   "outputs": [],
   "source": []
  }
 ],
 "metadata": {
  "language_info": {
   "name": "python"
  }
 },
 "nbformat": 4,
 "nbformat_minor": 5
}
