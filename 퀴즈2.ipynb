{
 "cells": [
  {
   "cell_type": "markdown",
   "id": "3bd7d36e",
   "metadata": {},
   "source": [
    "1.  LLM의 도구 사용 결정 정확도를 높이기 위해 실제 예시를 제공하는 기법은 무엇인가요?\n",
    "- D. Few-shot 프롬프팅\n",
    "2.  랭그래프(LangGraph)는 어떤 목적으로 설계된 라이브러리일까요?\n",
    "- B. 복잡한 에이전트 기반 워크플로우 구축\n",
    "\n",
    "3.  상태 그래프(StateGraph)의 가장 기본적인 세 가지 구성 요소는 무엇인가요?\n",
    "- C. 상태(State), 노드(Node), 엣지(Edge)\n",
    "4.  상태 그래프(StateGraph)에서 '노드(Node)'는 어떤 역할을 하며 '상태(State)'와 어떻게 상호작용하나요?\n",
    "- B. 현재 상태를 입력받아 작업을 수행하고, 상태를 업데이트해요.\n",
    "\n",
    "5.  상태 그래프(StateGraph)에서 '상태(State)'가 중요한 이유는 무엇인가요?\n",
    "- B. 그래프 내에서 노드들이 공유하는 데이터와 워크플로우의 진행 상황을 담기 위해\n",
    "\n",
    "6.  상태 그래프(StateGraph)에서 워크플로우의 실행 경로를 특정 상태 값에 따라 동적으로 바꾸고 싶을 때 사용하는 기능은 무엇인가요?\n",
    "- C. 조건부 엣지(Conditional Edge)\n",
    "\n",
    "7.  LangGraph에서 리듀서(Reducer)의 주요 역할은 무엇인가요?\n",
    "- C. 그래프 상태(State)가 업데이트되는 방식을 결정한다.\n",
    "\n",
    "8.  LangGraph의 메시지 그래프(Message Graph)가 제공하는 주요 기능은 무엇인가요?\n",
    "- B. 대화형 챗봇의 메시지 기록을 효율적으로 관리한다.\n",
    "\n",
    "9.  LangGraph에서 피드백 루프가 무한히 반복되는 것을 방지하기 위한 일반적인 방법은 무엇인가요?\n",
    "- B. 루프 내에서 실행 횟수 제한 설정\n",
    "\n",
    "10.  ReAct 에이전트의 핵심 동작 방식은 무엇인가요?\n",
    "- C. 추론 후 행동하고 그 결과를 바탕으로 다시 추론한다.\n"
   ]
  },
  {
   "cell_type": "markdown",
   "id": "cf8d13d7",
   "metadata": {},
   "source": []
  }
 ],
 "metadata": {
  "language_info": {
   "name": "python"
  }
 },
 "nbformat": 4,
 "nbformat_minor": 5
}
